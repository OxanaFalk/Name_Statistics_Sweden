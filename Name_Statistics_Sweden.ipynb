{
 "cells": [
  {
   "cell_type": "markdown",
   "metadata": {},
   "source": [
    "# Name statistics in Sweden\n",
    "\n",
    "This project aims to describe the most common names in Sweden over the period of last 20 years (1999-2018)."
   ]
  },
  {
   "cell_type": "code",
   "execution_count": 37,
   "metadata": {},
   "outputs": [
    {
     "name": "stdout",
     "output_type": "stream",
     "text": [
      "Done!\n"
     ]
    }
   ],
   "source": [
    "import pandas as pd\n",
    "import numpy as np\n",
    "import requests\n",
    "!pip install -q pyscbwrapper\n",
    "from pyscbwrapper import SCB\n",
    "from matplotlib import pyplot as plt\n",
    "print('Done!')"
   ]
  },
  {
   "cell_type": "code",
   "execution_count": 38,
   "metadata": {},
   "outputs": [],
   "source": [
    "scb = SCB('sv','BE','BE0001','BE0001G','BE0001T06AR')\n",
    "#scb.info()"
   ]
  },
  {
   "cell_type": "code",
   "execution_count": 39,
   "metadata": {},
   "outputs": [],
   "source": [
    "#scb.get_variables()"
   ]
  },
  {
   "cell_type": "code",
   "execution_count": 34,
   "metadata": {},
   "outputs": [],
   "source": [
    "scb.set_query(tabellinnehåll=[\"Antal bärare\"], \n",
    "              tilltalsnamn=[\"Anna\",\"Anders\"], \n",
    "              år=[\"2014\", \"2015\", \"2016\", \"2017\", \"2018\"])"
   ]
  },
  {
   "cell_type": "code",
   "execution_count": 35,
   "metadata": {},
   "outputs": [
    {
     "data": {
      "text/plain": [
       "{'query': [{'code': 'ContentsCode',\n",
       "   'selection': {'filter': 'item', 'values': ['BE0001AB']}},\n",
       "  {'code': 'Tilltalsnamn',\n",
       "   'selection': {'filter': 'item',\n",
       "    'values': ['10Anders', '1Anders', '20Anna', '2Anna']}},\n",
       "  {'code': 'Tid',\n",
       "   'selection': {'filter': 'item',\n",
       "    'values': ['2014', '2015', '2016', '2017', '2018']}}],\n",
       " 'response': {'format': 'json'}}"
      ]
     },
     "execution_count": 35,
     "metadata": {},
     "output_type": "execute_result"
    }
   ],
   "source": [
    "scb.get_query()"
   ]
  },
  {
   "cell_type": "code",
   "execution_count": 36,
   "metadata": {},
   "outputs": [
    {
     "data": {
      "text/plain": [
       "{'columns': [{'code': 'Tilltalsnamn', 'text': 'tilltalsnamn', 'type': 'd'},\n",
       "  {'code': 'Tid', 'text': 'år', 'type': 't'},\n",
       "  {'code': 'BE0001AB', 'text': 'Antal bärare', 'type': 'c'}],\n",
       " 'comments': [],\n",
       " 'data': [{'key': ['10Anders', '2014'], 'values': ['80039']},\n",
       "  {'key': ['10Anders', '2015'], 'values': ['79442']},\n",
       "  {'key': ['10Anders', '2016'], 'values': ['78905']},\n",
       "  {'key': ['10Anders', '2017'], 'values': ['78409']},\n",
       "  {'key': ['10Anders', '2018'], 'values': ['77879']},\n",
       "  {'key': ['1Anders', '2014'], 'values': ['80039']},\n",
       "  {'key': ['1Anders', '2015'], 'values': ['79442']},\n",
       "  {'key': ['1Anders', '2016'], 'values': ['78905']},\n",
       "  {'key': ['1Anders', '2017'], 'values': ['78409']},\n",
       "  {'key': ['1Anders', '2018'], 'values': ['77879']},\n",
       "  {'key': ['20Anna', '2014'], 'values': ['107210']},\n",
       "  {'key': ['20Anna', '2015'], 'values': ['105983']},\n",
       "  {'key': ['20Anna', '2016'], 'values': ['104951']},\n",
       "  {'key': ['20Anna', '2017'], 'values': ['103794']},\n",
       "  {'key': ['20Anna', '2018'], 'values': ['102709']},\n",
       "  {'key': ['2Anna', '2014'], 'values': ['107210']},\n",
       "  {'key': ['2Anna', '2015'], 'values': ['105983']},\n",
       "  {'key': ['2Anna', '2016'], 'values': ['104951']},\n",
       "  {'key': ['2Anna', '2017'], 'values': ['103794']},\n",
       "  {'key': ['2Anna', '2018'], 'values': ['102709']}]}"
      ]
     },
     "execution_count": 36,
     "metadata": {},
     "output_type": "execute_result"
    }
   ],
   "source": [
    "scb.get_data()"
   ]
  },
  {
   "cell_type": "markdown",
   "metadata": {},
   "source": [
    "Info about API from SCB: https://github.com/kirajcg/pyscbwrapper/blob/master/pyscbwrapper.ipynb"
   ]
  },
  {
   "cell_type": "code",
   "execution_count": null,
   "metadata": {},
   "outputs": [],
   "source": []
  }
 ],
 "metadata": {
  "kernelspec": {
   "display_name": "Python 3",
   "language": "python",
   "name": "python3"
  },
  "language_info": {
   "codemirror_mode": {
    "name": "ipython",
    "version": 3
   },
   "file_extension": ".py",
   "mimetype": "text/x-python",
   "name": "python",
   "nbconvert_exporter": "python",
   "pygments_lexer": "ipython3",
   "version": "3.7.3"
  }
 },
 "nbformat": 4,
 "nbformat_minor": 2
}
